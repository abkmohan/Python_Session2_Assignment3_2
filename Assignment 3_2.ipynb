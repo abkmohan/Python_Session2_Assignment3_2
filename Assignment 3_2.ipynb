{
 "cells": [
  {
   "cell_type": "code",
   "execution_count": 73,
   "metadata": {},
   "outputs": [
    {
     "name": "stdout",
     "output_type": "stream",
     "text": [
      "['A', 'C', 'A', 'D', 'G', 'I', 'L', 'D']\n",
      "['x', 'xx', 'xxx', 'xxxx', 'y', 'yy', 'yyy', 'yyyy', 'z', 'zz', 'zzz', 'zzzz']\n",
      "['x', 'y', 'z', 'xx', 'yy', 'zz', 'xxx', 'yyy', 'zzz', 'xxxx', 'yyyy', 'zzzz']\n",
      "[[2], [3], [4], [3], [4], [5], [4], [5], [6]]\n",
      "[[2, 3, 4, 5], [3, 4, 5, 6], [4, 5, 6, 7], [5, 6, 7, 8]]\n",
      "[(1, 1), (2, 1), (3, 1), (1, 2), (2, 2), (3, 2), (1, 3), (2, 3), (3, 3)]\n"
     ]
    }
   ],
   "source": [
    "#Course: Data Science Masters\n",
    "#Title: Python - Assignment 3.2\n",
    "#Problem Statement: Write List comprehensions to produce the following Lists\n",
    "#     1. ['A', 'C', 'A', 'D', 'G', 'I', ’L’, ‘ D’]\n",
    "#     2. ['x', 'xx', 'xxx', 'xxxx', 'y', 'yy', 'yyy', 'yyyy', 'z', 'zz', 'zzz', 'zzzz']\n",
    "#     3. ['x', 'y', 'z', 'xx', 'yy', 'zz', 'xx', 'yy', 'zz', 'xxxx', 'yyyy', 'zzzz']\n",
    "#     4. [[2], [3], [4], [3], [4], [5], [4], [5], [6]]\n",
    "#     5. [[2, 3, 4, 5], [3, 4, 5, 6], [4, 5, 6, 7], [5, 6, 7, 8]]\n",
    "#     6. [(1, 1), (2, 1), (3, 1), (1, 2), (2, 2), (3, 2), (1, 3), (2, 3), (3, 3)]\n",
    "#Tool: Jupyter notebook \n",
    "#Author: Krishna A\n",
    "#Date: 19-2-2018 (DD/MM/YYYY)\n",
    "\n",
    "import itertools\n",
    "\n",
    "#1. ['A', 'C', 'A', 'D', 'G', 'I', ’L’, ‘ D’]\n",
    "print(list(\"ACADGILD\"))  #Just converting a word to list will automatically convert a string to list\n",
    "\n",
    "#2. ['x', 'xx', 'xxx', 'xxxx', 'y', 'yy', 'yyy', 'yyyy', 'z', 'zz', 'zzz', 'zzzz']\n",
    "sNewList = []\n",
    "for iNum in ('x','y','z'):\n",
    "    sNewList.append(list(map(lambda element:element*iNum, range(1,5))))\n",
    "print(list(itertools.chain.from_iterable(sNewList)))  #itertools API provides methods to join lists into one list\n",
    "\n",
    "#3. ['x', 'y', 'z', 'xx', 'yy', 'zz', 'xx', 'yy', 'zz', 'xxxx', 'yyyy', 'zzzz']\n",
    "tList=('x','y','z')\n",
    "sNewList = []\n",
    "for iNum in range(1,5):\n",
    "    sNewList.append(list(map(lambda element:element*iNum, tList)))\n",
    "print(list(itertools.chain.from_iterable(sNewList)))  #itertools API provides methods to join lists into one list\n",
    "\n",
    "#4. [[2], [3], [4], [3], [4], [5], [4], [5], [6]]\n",
    "sNewList = []\n",
    "iStart=2\n",
    "iLimit=3\n",
    "for iIterate in range(iStart,iStart+iLimit):\n",
    "    for iNum in range(iIterate,iIterate+iLimit):\n",
    "        sNewList.append(list(map(lambda element:element+iNum, range(0,1))))\n",
    "print(sNewList)\n",
    "\n",
    "#5. [[2, 3, 4, 5], [3, 4, 5, 6], [4, 5, 6, 7], [5, 6, 7, 8]]\n",
    "sNewList = []\n",
    "for iNum in range(1,5):\n",
    "    sNewList.append(list(map(lambda element:element+iNum, range(1,5))))\n",
    "print(sNewList)\n",
    "\n",
    "#6. [(1, 1), (2, 1), (3, 1), (1, 2), (2, 2), (3, 2), (1, 3), (2, 3), (3, 3)]\n",
    "def elementOne(x,y):\n",
    "    return(x+1)\n",
    "def elementTwo(x,y):\n",
    "    return(y)\n",
    "sNewList = []\n",
    "methods = [elementOne, elementTwo]\n",
    "for iIterate in range(1,4):\n",
    "    for iNum in range(0,3):\n",
    "        sNewList.append(tuple(map(lambda element:element(iNum,iIterate), methods)))\n",
    "print(sNewList)"
   ]
  },
  {
   "cell_type": "code",
   "execution_count": null,
   "metadata": {
    "collapsed": true
   },
   "outputs": [],
   "source": [
    "#"
   ]
  }
 ],
 "metadata": {
  "kernelspec": {
   "display_name": "Python 3",
   "language": "python",
   "name": "python3"
  },
  "language_info": {
   "codemirror_mode": {
    "name": "ipython",
    "version": 3
   },
   "file_extension": ".py",
   "mimetype": "text/x-python",
   "name": "python",
   "nbconvert_exporter": "python",
   "pygments_lexer": "ipython3",
   "version": "3.6.3"
  }
 },
 "nbformat": 4,
 "nbformat_minor": 2
}
